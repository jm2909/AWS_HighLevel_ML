{
 "cells": [
  {
   "cell_type": "markdown",
   "metadata": {},
   "source": [
    "**Objective:**\n",
    "\n",
    "This notebook helps to understand the application of AWS Translate service. Output is stored in jsonoutput_translate folder.\n",
    "\n",
    "*Note : This service is real costly when you complete your free tier limit.*"
   ]
  },
  {
   "cell_type": "code",
   "execution_count": 1,
   "metadata": {},
   "outputs": [],
   "source": [
    "import boto3,json,os\n",
    "\n",
    "translate = boto3.client('translate',region_name = 'us-east-1')"
   ]
  },
  {
   "cell_type": "code",
   "execution_count": 2,
   "metadata": {},
   "outputs": [],
   "source": [
    "try:\n",
    "    os.mkdir('jsonoutput_translate')\n",
    "except:\n",
    "    pass"
   ]
  },
  {
   "cell_type": "markdown",
   "metadata": {},
   "source": [
    "# Amazon Translate Service"
   ]
  },
  {
   "cell_type": "code",
   "execution_count": 3,
   "metadata": {},
   "outputs": [
    {
     "name": "stdout",
     "output_type": "stream",
     "text": [
      "English text : The first 2 million characters in each monthly cycle will be free for the first 12 months starting the day you first use the service. \n",
      " Usage beyond the first 2 million characters every month will be billed at $15 per million input characters, on a pay-as-you-go basis - no setup cost and no minimum fee. For additional pricing details, see the Amazon Translate pricing page on our website.\n",
      "Translated_text\n",
      "***************\n",
      "Los primeros 2 millones de caracteres de cada ciclo mensual serán gratuitos durante los primeros 12 meses a partir del día en que utilices el servicio por primera vez. \n",
      " El uso más allá de los primeros 2 millones de caracteres cada mes se facturará a $15 por millón de caracteres de entrada, sobre una base de pago por uso, sin costo de configuración ni tarifa mínima. Para obtener más información sobre los precios, consulta la página de precios de Amazon Translate en nuestro sitio web.\n"
     ]
    }
   ],
   "source": [
    "text = \"The first 2 million characters in each monthly cycle will be free for the first 12 months starting the day you first use the service. \\n Usage beyond the first 2 million characters every month will be billed at $15 per million input characters, on a pay-as-you-go basis - no setup cost and no minimum fee. For additional pricing details, see the Amazon Translate pricing page on our website.\"\n",
    "\n",
    "print(\"English text :\", text)\n",
    "\n",
    "translate_json = translate.translate_text(Text = text,\n",
    "                         SourceLanguageCode = \"en\",TargetLanguageCode = \"es\")\n",
    "\n",
    "with open(\"jsonoutput_translate/translate_json.json\",\"w\") as js:\n",
    "    json.dump(translate_json,js)\n",
    "    \n",
    "\n",
    "if translate_json['ResponseMetadata']['HTTPStatusCode'] == 200:\n",
    "    print(\"Translated_text\")\n",
    "    print(\"***************\")\n",
    "    print(translate_json['TranslatedText'])"
   ]
  }
 ],
 "metadata": {
  "kernelspec": {
   "display_name": "Python 3",
   "language": "python",
   "name": "python3"
  },
  "language_info": {
   "codemirror_mode": {
    "name": "ipython",
    "version": 3
   },
   "file_extension": ".py",
   "mimetype": "text/x-python",
   "name": "python",
   "nbconvert_exporter": "python",
   "pygments_lexer": "ipython3",
   "version": "3.6.9"
  }
 },
 "nbformat": 4,
 "nbformat_minor": 4
}
